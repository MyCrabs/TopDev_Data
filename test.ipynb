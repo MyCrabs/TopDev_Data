{
 "cells": [
  {
   "cell_type": "code",
   "execution_count": 1,
   "metadata": {},
   "outputs": [],
   "source": [
    "from selenium import webdriver\n",
    "from selenium.webdriver.common.keys import Keys\n",
    "from selenium.webdriver.common.by import By\n",
    "from selenium.webdriver.chrome.options import Options\n",
    "from time import sleep\n",
    "from bs4 import BeautifulSoup"
   ]
  },
  {
   "cell_type": "code",
   "execution_count": 3,
   "metadata": {},
   "outputs": [
    {
     "name": "stdout",
     "output_type": "stream",
     "text": [
      "Công Ty TNHH Cch Top (Vn)\n"
     ]
    }
   ],
   "source": [
    "chrome_options = Options()\n",
    "#chrome_options.add_experimental_option(\"detach\", True)\n",
    "chrome_options.add_argument('--headless')\n",
    "driver = webdriver.Chrome(options = chrome_options)\n",
    "driver.get('https://vieclam24h.vn/an-toan-lao-dong/nhan-vien-an-toan-lao-dong-hse-quan-7-c36p122id200331134.html?open_from=0201_1_1&search_id=1d99b01601d93b7d5886da6d9b85e20c')\n",
    "sleep(2)\n",
    "# def Get_URL(): \n",
    "#     page_source = BeautifulSoup(driver.page_source,'html.parser')\n",
    "#     profiles = page_source.find_all('a',class_ = 'text-lg font-bold transition-all text-primary')\n",
    "#     all_profile_URL = []\n",
    "#     for profile in profiles:\n",
    "#         profile_ID = profile.get('href')\n",
    "#         profile_URL = 'https://topdev.vn/' + profile_ID\n",
    "#         if profile_URL not in all_profile_URL:\n",
    "#             all_profile_URL.append(profile_URL)\n",
    "#     return all_profile_URL\n",
    "source = BeautifulSoup(driver.page_source,'html.parser')\n",
    "name  = source.find('h2', class_='font-normal text-16 text-se-neutral-64 mb-4').get_text(' ', strip=True)\n",
    "print(name)"
   ]
  },
  {
   "cell_type": "code",
   "execution_count": null,
   "metadata": {},
   "outputs": [],
   "source": []
  }
 ],
 "metadata": {
  "kernelspec": {
   "display_name": "Python 3",
   "language": "python",
   "name": "python3"
  },
  "language_info": {
   "codemirror_mode": {
    "name": "ipython",
    "version": 3
   },
   "file_extension": ".py",
   "mimetype": "text/x-python",
   "name": "python",
   "nbconvert_exporter": "python",
   "pygments_lexer": "ipython3",
   "version": "3.11.5"
  }
 },
 "nbformat": 4,
 "nbformat_minor": 2
}
